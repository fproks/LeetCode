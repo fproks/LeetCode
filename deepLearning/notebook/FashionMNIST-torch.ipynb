{
 "cells": [
  {
   "cell_type": "code",
   "execution_count": 38,
   "outputs": [
    {
     "name": "stdout",
     "output_type": "stream",
     "text": [
      "(10000, 28, 28)\n",
      "(10000,)\n",
      "[2 1 1 6 1 4 6 5 7]\n",
      "(10000, 28, 28, 1)\n"
     ]
    }
   ],
   "source": [
    "from tensorflow import keras\n",
    "\n",
    "fashionMnist = keras.datasets.fashion_mnist\n",
    "(train_data, train_lables), (test_data, test_lables) = fashionMnist.load_data()\n",
    "print(test_data.shape)\n",
    "print(test_lables.shape)\n",
    "print(test_lables[1:10])\n",
    "train_data = train_data / 255.0\n",
    "test_data = test_data / 255.0\n",
    "train_data = train_data.reshape(-1, 28, 28, 1)\n",
    "test_data = test_data.reshape(-1, 28, 28, 1)\n",
    "train_lables = keras.utils.to_categorical(train_lables, 10)\n",
    "test_lables = keras.utils.to_categorical(test_lables, 10)\n",
    "print(test_data.shape)"
   ],
   "metadata": {
    "collapsed": false,
    "pycharm": {
     "name": "#%%\n"
    }
   }
  },
  {
   "cell_type": "code",
   "execution_count": 39,
   "outputs": [
    {
     "name": "stdout",
     "output_type": "stream",
     "text": [
      "Model: \"sequential_13\"\n",
      "_________________________________________________________________\n",
      "Layer (type)                 Output Shape              Param #   \n",
      "=================================================================\n",
      "conv2d_16 (Conv2D)           (128, 26, 26, 32)         320       \n",
      "_________________________________________________________________\n",
      "max_pooling2d_14 (MaxPooling (128, 13, 13, 32)         0         \n",
      "_________________________________________________________________\n",
      "flatten_14 (Flatten)         (128, 5408)               0         \n",
      "_________________________________________________________________\n",
      "dense_28 (Dense)             (128, 128)                692352    \n",
      "_________________________________________________________________\n",
      "dense_29 (Dense)             (128, 10)                 1290      \n",
      "_________________________________________________________________\n",
      "activation_2 (Activation)    (128, 10)                 0         \n",
      "=================================================================\n",
      "Total params: 693,962\n",
      "Trainable params: 693,962\n",
      "Non-trainable params: 0\n",
      "_________________________________________________________________\n",
      "None\n"
     ]
    }
   ],
   "source": [
    "batch_size = 128\n",
    "model = keras.Sequential([\n",
    "    keras.layers.Conv2D(32, kernel_size=3, strides=1, activation='relu', data_format=\"channels_last\",\n",
    "                        input_shape=(28, 28, 1),\n",
    "                        use_bias=True,\n",
    "                        batch_size=batch_size),\n",
    "    keras.layers.MaxPool2D((2, 2), strides=2),\n",
    "    keras.layers.Flatten(),\n",
    "    keras.layers.Dense(128, activation='relu'),\n",
    "    keras.layers.Dense(10),\n",
    "    keras.layers.Activation(\"softmax\")\n",
    "])\n",
    "print(model.summary())"
   ],
   "metadata": {
    "collapsed": false,
    "pycharm": {
     "name": "#%%\n"
    }
   }
  },
  {
   "cell_type": "code",
   "execution_count": 41,
   "outputs": [
    {
     "name": "stdout",
     "output_type": "stream",
     "text": [
      "Epoch 1/10\n",
      "WARNING:tensorflow:Model was constructed with shape (128, 28, 28, 1) for input Tensor(\"conv2d_16_input:0\", shape=(128, 28, 28, 1), dtype=float32), but it was called on an input with incompatible shape (32, 28, 28, 1).\n",
      "WARNING:tensorflow:Model was constructed with shape (128, 28, 28, 1) for input Tensor(\"conv2d_16_input:0\", shape=(128, 28, 28, 1), dtype=float32), but it was called on an input with incompatible shape (32, 28, 28, 1).\n",
      "79/79 [==============================] - 1s 9ms/step - loss: 0.3372 - accuracy: 0.8687\n",
      "1875/1875 [==============================] - 16s 9ms/step - loss: 0.4040 - accuracy: 0.8515\n",
      "Epoch 2/10\n",
      "79/79 [==============================] - 1s 7ms/step - loss: 0.3016 - accuracy: 0.8763\n",
      "1875/1875 [==============================] - 15s 8ms/step - loss: 0.2986 - accuracy: 0.8915\n",
      "Epoch 3/10\n",
      "79/79 [==============================] - 1s 7ms/step - loss: 0.3229 - accuracy: 0.8691\n",
      "1875/1875 [==============================] - 16s 9ms/step - loss: 0.2600 - accuracy: 0.9046\n",
      "Epoch 4/10\n",
      "79/79 [==============================] - 1s 7ms/step - loss: 0.2761 - accuracy: 0.8915\n",
      "1875/1875 [==============================] - 17s 9ms/step - loss: 0.2304 - accuracy: 0.9153\n",
      "Epoch 5/10\n",
      "79/79 [==============================] - 1s 8ms/step - loss: 0.2632 - accuracy: 0.8935\n",
      "1875/1875 [==============================] - 18s 9ms/step - loss: 0.2071 - accuracy: 0.9231\n",
      "Epoch 6/10\n",
      "79/79 [==============================] - 1s 8ms/step - loss: 0.2647 - accuracy: 0.8951\n",
      "1875/1875 [==============================] - 17s 9ms/step - loss: 0.1887 - accuracy: 0.9306\n",
      "Epoch 7/10\n",
      "79/79 [==============================] - 1s 9ms/step - loss: 0.2585 - accuracy: 0.8991\n",
      "1875/1875 [==============================] - 16s 9ms/step - loss: 0.1704 - accuracy: 0.9366\n",
      "Epoch 8/10\n",
      "79/79 [==============================] - 1s 7ms/step - loss: 0.2643 - accuracy: 0.8968\n",
      "1875/1875 [==============================] - 16s 9ms/step - loss: 0.1559 - accuracy: 0.9419\n",
      "Epoch 9/10\n",
      "79/79 [==============================] - 1s 7ms/step - loss: 0.2867 - accuracy: 0.8919\n",
      "1875/1875 [==============================] - 16s 8ms/step - loss: 0.1422 - accuracy: 0.9475\n",
      "Epoch 10/10\n",
      "79/79 [==============================] - 1s 7ms/step - loss: 0.2656 - accuracy: 0.9035\n",
      "1875/1875 [==============================] - 16s 8ms/step - loss: 0.1282 - accuracy: 0.9515\n"
     ]
    }
   ],
   "source": [
    "model.compile(loss=keras.losses.CategoricalCrossentropy(),\n",
    "              optimizer=keras.optimizers.SGD(learning_rate=0.1),\n",
    "              metrics=['accuracy'])\n",
    "\n",
    "class TestCallback(keras.callbacks.Callback):\n",
    "    def __init__(self):\n",
    "        super(TestCallback, self).__init__()\n",
    "        self.loss = []\n",
    "        self.acc = []\n",
    "\n",
    "    def on_epoch_end(self, epoch, logs=None):\n",
    "        (loss, acc) = self.model.evaluate(test_data, test_lables, batch_size=128, verbose=True)\n",
    "        self.loss.append(loss)\n",
    "        self.acc.append(acc)\n",
    "\n",
    "\n",
    "callbacks = TestCallback()\n",
    "\n",
    "h = model.fit(train_data, train_lables, epochs=10, callbacks=[callbacks])"
   ],
   "metadata": {
    "collapsed": false,
    "pycharm": {
     "name": "#%%\n"
    }
   }
  },
  {
   "cell_type": "code",
   "execution_count": 48,
   "outputs": [
    {
     "data": {
      "text/plain": "<Figure size 432x288 with 1 Axes>",
      "image/png": "[encoded data removed]"
     },
     "metadata": {
      "needs_background": "light"
     },
     "output_type": "display_data"
    },
    {
     "data": {
      "text/plain": "<Figure size 432x288 with 1 Axes>",
      "image/png": "[encoded data removed]"
     },
     "metadata": {
      "needs_background": "light"
     },
     "output_type": "display_data"
    }
   ],
   "source": [
    "from matplotlib import pyplot as plt\n",
    "from learning.pytorchExt import PytorchExt\n",
    "\n",
    "def pltshow( title, loss_train, loss_test):\n",
    "    plt.plot([i for i in range(len(loss_train))], loss_train)\n",
    "    plt.plot([i for i in range(len(loss_test))], loss_test)\n",
    "    plt.title(title)\n",
    "    plt.legend([\"Val\", \"Test\"])\n",
    "    plt.show()\n",
    "\n",
    "pltshow(\"kears-fashionMnist\", h.history['loss'], callbacks.loss)\n",
    "pltshow(\"kears-fashionMnist-ACC\", h.history['accuracy'], callbacks.acc)"
   ],
   "metadata": {
    "collapsed": false,
    "pycharm": {
     "name": "#%%\n"
    }
   }
  },
  {
   "cell_type": "code",
   "execution_count": null,
   "outputs": [],
   "source": [],
   "metadata": {
    "collapsed": false,
    "pycharm": {
     "name": "#%%\n"
    }
   }
  }
 ],
 "metadata": {
  "kernelspec": {
   "display_name": "Python 3",
   "language": "python",
   "name": "python3"
  },
  "language_info": {
   "codemirror_mode": {
    "name": "ipython",
    "version": 2
   },
   "file_extension": ".py",
   "mimetype": "text/x-python",
   "name": "python",
   "nbconvert_exporter": "python",
   "pygments_lexer": "ipython2",
   "version": "2.7.6"
  }
 },
 "nbformat": 4,
 "nbformat_minor": 0
}