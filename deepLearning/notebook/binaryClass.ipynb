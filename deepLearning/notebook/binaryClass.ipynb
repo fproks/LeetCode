{
 "cells": [
  {
   "cell_type": "code",
   "execution_count": 64,
   "outputs": [],
   "source": [
    "import matplotlib.pyplot as plt\n",
    "import pandas as pd\n",
    "import numpy as np\n",
    "\n",
    "# 数据来源 https://archive.ics.uci.edu/ml/datasets/Census+Income\n",
    "\n",
    "data = pd.read_csv(\"../data/adult.data\", sep=\",\", header=None)\n",
    "test = pd.read_csv(\"../data/adult.test\", sep=\",\", header=None)\n"
   ],
   "metadata": {
    "collapsed": false,
    "pycharm": {
     "name": "#%%\n"
    }
   }
  },
  {
   "cell_type": "code",
   "execution_count": 65,
   "outputs": [
    {
     "name": "stdout",
     "output_type": "stream",
     "text": [
      "(30162, 16281)\n"
     ]
    }
   ],
   "source": [
    "data.replace(\"\\s+\", '', regex=True, inplace=True)  #去除空格\n",
    "train = data.replace({'?': np.nan}).dropna()  #清除缺失属性的数据\n",
    "test.replace(\"\\s+\", \"\", regex=True, inplace=True)\n",
    "test.replace({'?': np.nan}).dropna()\n",
    "\n",
    "(train_length, _) = train.values.shape\n",
    "(test_length, _) = test.values.shape\n",
    "print((train_length, test_length))"
   ],
   "metadata": {
    "collapsed": false,
    "pycharm": {
     "name": "#%%\n"
    }
   }
  },
  {
   "cell_type": "code",
   "execution_count": 66,
   "outputs": [
    {
     "name": "stdout",
     "output_type": "stream",
     "text": [
      "(46443, 15)\n"
     ]
    }
   ],
   "source": [
    "tmp = np.concatenate((train.values, test.values), axis=0)\n",
    "print(tmp.shape)\n"
   ],
   "metadata": {
    "collapsed": false,
    "pycharm": {
     "name": "#%%\n"
    }
   }
  },
  {
   "cell_type": "code",
   "execution_count": 67,
   "outputs": [
    {
     "name": "stdout",
     "output_type": "stream",
     "text": [
      "(46443, 15)\n",
      "(46443, 14)\n",
      "(46443,)\n",
      "[39 7 77516 9 13 4 1 1 4 1 2174 0 40 39]\n",
      "object\n",
      "[0 0 0 ... 0 0 1]\n",
      "float32\n",
      "[3.9000e+01 7.0000e+00 7.7516e+04 9.0000e+00 1.3000e+01 4.0000e+00\n",
      " 1.0000e+00 1.0000e+00 4.0000e+00 1.0000e+00 2.1740e+03 0.0000e+00\n",
      " 4.0000e+01 3.9000e+01]\n",
      "(30162, 1)\n",
      "(16281, 1)\n"
     ]
    }
   ],
   "source": [
    "from sklearn.preprocessing import LabelEncoder, MinMaxScaler\n",
    "tmp=all.values\n",
    "print(tmp.shape)\n",
    "#切割数据\n",
    "tmp_x = tmp[:, 0:-1]\n",
    "tmp_y = tmp[:, -1]\n",
    "tmp_y[tmp_y == '<=50K'] = '<50K'\n",
    "tmp_y[tmp_y == \"<=50K.\"] = '<50K'\n",
    "tmp_y[tmp_y == '>50K.'] = '>50K'\n",
    "print(tmp_x.shape)\n",
    "print(tmp_y.shape)\n",
    "# 字符串属性更改为数字\n",
    "# 标签更改为数字\n",
    "tmp_x[:, 1] = LabelEncoder().fit_transform(tmp_x[:, 1])\n",
    "tmp_x[:, 3] = LabelEncoder().fit_transform(tmp_x[:, 3])\n",
    "tmp_x[:, 5] = LabelEncoder().fit_transform(tmp_x[:, 5])\n",
    "tmp_x[:, 6] = LabelEncoder().fit_transform(tmp_x[:, 6])\n",
    "tmp_x[:, 7] = LabelEncoder().fit_transform(tmp_x[:, 7])\n",
    "tmp_x[:, 8] = LabelEncoder().fit_transform(tmp_x[:, 8])\n",
    "tmp_x[:, 9] = LabelEncoder().fit_transform(tmp_x[:, 9])\n",
    "tmp_x[:, 13] = LabelEncoder().fit_transform(tmp_x[:, 13])\n",
    "tmp_y = LabelEncoder().fit_transform(tmp_y)\n",
    "print(tmp_x[0, :])\n",
    "print(tmp_x.dtype)\n",
    "print(tmp_y)\n",
    "#更改类型\n",
    "tmp_x = tmp_x.astype(np.float32)\n",
    "tmp_y = tmp_y.astype(np.int32)\n",
    "tmp_y = np.expand_dims(tmp_y, axis=1)\n",
    "print(tmp_x.dtype)\n",
    "print(tmp_x[0, :])\n",
    "tmp_x = MinMaxScaler().fit_transform(tmp_x)\n",
    "train_x = tmp_x[0:train_length, :]\n",
    "test_x = tmp_x[train_length:, ]\n",
    "train_y = tmp_y[0:train_length]\n",
    "test_y = tmp_y[train_length:]\n",
    "print(train_y.shape)\n",
    "print(test_y.shape)\n",
    "np.savez(\"../data/adult_binary.npz\", train_x=train_x, test_x=test_x, train_y=train_y, test_y=test_y)"
   ],
   "metadata": {
    "collapsed": false,
    "pycharm": {
     "name": "#%%\n"
    }
   }
  },
  {
   "cell_type": "code",
   "execution_count": 68,
   "outputs": [
    {
     "name": "stdout",
     "output_type": "stream",
     "text": [
      "epoch: 0 train_loss: 0.5615741014480591, valid_loss: 0.5621368885040283, acc=0.7543103448275862\n",
      "epoch: 1 train_loss: 0.5620302557945251, valid_loss: 0.5577875971794128, acc=0.7543103448275862\n",
      "epoch: 2 train_loss: 0.5616046786308289, valid_loss: 0.557550847530365, acc=0.7543103448275862\n",
      "epoch: 3 train_loss: 0.5615805983543396, valid_loss: 0.557555079460144, acc=0.7543103448275862\n",
      "epoch: 4 train_loss: 0.5616196990013123, valid_loss: 0.5575554370880127, acc=0.7543103448275862\n",
      "epoch: 5 train_loss: 0.5615450143814087, valid_loss: 0.557555615901947, acc=0.7543103448275862\n",
      "epoch: 6 train_loss: 0.5615695714950562, valid_loss: 0.5575556755065918, acc=0.7543103448275862\n",
      "epoch: 7 train_loss: 0.5615449547767639, valid_loss: 0.5575556755065918, acc=0.7543103448275862\n",
      "epoch: 8 train_loss: 0.5615449547767639, valid_loss: 0.5575556755065918, acc=0.7543103448275862\n",
      "epoch: 9 train_loss: 0.5615695714950562, valid_loss: 0.5575556755065918, acc=0.7543103448275862\n",
      "epoch: 10 train_loss: 0.5615449547767639, valid_loss: 0.5575556755065918, acc=0.7543103448275862\n",
      "epoch: 11 train_loss: 0.5615942478179932, valid_loss: 0.5575556755065918, acc=0.7543103448275862\n",
      "epoch: 12 train_loss: 0.5615449547767639, valid_loss: 0.5575556755065918, acc=0.7543103448275862\n",
      "epoch: 13 train_loss: 0.5615449547767639, valid_loss: 0.5575556755065918, acc=0.7543103448275862\n",
      "epoch: 14 train_loss: 0.5614957213401794, valid_loss: 0.5575556755065918, acc=0.7543103448275862\n",
      "epoch: 15 train_loss: 0.5615449547767639, valid_loss: 0.5575556755065918, acc=0.7543103448275862\n",
      "epoch: 16 train_loss: 0.5615449547767639, valid_loss: 0.5575556755065918, acc=0.7543103448275862\n",
      "epoch: 17 train_loss: 0.5615449547767639, valid_loss: 0.5575556755065918, acc=0.7543103448275862\n",
      "epoch: 18 train_loss: 0.5615203380584717, valid_loss: 0.5575556755065918, acc=0.7543103448275862\n",
      "epoch: 19 train_loss: 0.5615696310997009, valid_loss: 0.5575556755065918, acc=0.7543103448275862\n",
      "epoch: 20 train_loss: 0.5615449547767639, valid_loss: 0.5575556755065918, acc=0.7543103448275862\n",
      "epoch: 21 train_loss: 0.5615942478179932, valid_loss: 0.5575556755065918, acc=0.7543103448275862\n",
      "epoch: 22 train_loss: 0.5615449547767639, valid_loss: 0.5575556755065918, acc=0.7543103448275862\n",
      "epoch: 23 train_loss: 0.5615941882133484, valid_loss: 0.5575556755065918, acc=0.7543103448275862\n",
      "epoch: 24 train_loss: 0.5614957213401794, valid_loss: 0.5575556755065918, acc=0.7543103448275862\n",
      "epoch: 25 train_loss: 0.5615942478179932, valid_loss: 0.5575556755065918, acc=0.7543103448275862\n",
      "epoch: 26 train_loss: 0.5615203380584717, valid_loss: 0.5575556755065918, acc=0.7543103448275862\n",
      "epoch: 27 train_loss: 0.5615695714950562, valid_loss: 0.5575556755065918, acc=0.7543103448275862\n",
      "epoch: 28 train_loss: 0.5615695714950562, valid_loss: 0.5575556755065918, acc=0.7543103448275862\n",
      "epoch: 29 train_loss: 0.5615695714950562, valid_loss: 0.5575556755065918, acc=0.7543103448275862\n",
      "epoch: 30 train_loss: 0.5614957213401794, valid_loss: 0.5575556755065918, acc=0.7543103448275862\n",
      "epoch: 31 train_loss: 0.5615449547767639, valid_loss: 0.5575556755065918, acc=0.7543103448275862\n",
      "epoch: 32 train_loss: 0.5615695714950562, valid_loss: 0.5575556755065918, acc=0.7543103448275862\n",
      "epoch: 33 train_loss: 0.5616188049316406, valid_loss: 0.5575556755065918, acc=0.7543103448275862\n",
      "epoch: 34 train_loss: 0.5615695714950562, valid_loss: 0.5575556755065918, acc=0.7543103448275862\n",
      "epoch: 35 train_loss: 0.5615695714950562, valid_loss: 0.5575556755065918, acc=0.7543103448275862\n",
      "epoch: 36 train_loss: 0.5615695714950562, valid_loss: 0.5575556755065918, acc=0.7543103448275862\n",
      "epoch: 37 train_loss: 0.5615203380584717, valid_loss: 0.5575556755065918, acc=0.7543103448275862\n",
      "epoch: 38 train_loss: 0.5615695714950562, valid_loss: 0.5575556755065918, acc=0.7543103448275862\n",
      "epoch: 39 train_loss: 0.5615203380584717, valid_loss: 0.5575556755065918, acc=0.7543103448275862\n",
      "epoch: 40 train_loss: 0.5615449547767639, valid_loss: 0.5575556755065918, acc=0.7543103448275862\n",
      "epoch: 41 train_loss: 0.5615203380584717, valid_loss: 0.5575556755065918, acc=0.7543103448275862\n",
      "epoch: 42 train_loss: 0.5615696310997009, valid_loss: 0.5575556755065918, acc=0.7543103448275862\n",
      "epoch: 43 train_loss: 0.5615449547767639, valid_loss: 0.5575556755065918, acc=0.7543103448275862\n",
      "epoch: 44 train_loss: 0.5615449547767639, valid_loss: 0.5575556755065918, acc=0.7543103448275862\n",
      "epoch: 45 train_loss: 0.5615449547767639, valid_loss: 0.5575556755065918, acc=0.7543103448275862\n",
      "epoch: 46 train_loss: 0.5615203380584717, valid_loss: 0.5575556755065918, acc=0.7543103448275862\n",
      "epoch: 47 train_loss: 0.5615203380584717, valid_loss: 0.5575556755065918, acc=0.7543103448275862\n",
      "epoch: 48 train_loss: 0.5615449547767639, valid_loss: 0.5575556755065918, acc=0.7543103448275862\n",
      "epoch: 49 train_loss: 0.5615449547767639, valid_loss: 0.5575556755065918, acc=0.7543103448275862\n",
      "epoch: 50 train_loss: 0.5615449547767639, valid_loss: 0.5575556755065918, acc=0.7543103448275862\n",
      "epoch: 51 train_loss: 0.5615695714950562, valid_loss: 0.5575556755065918, acc=0.7543103448275862\n",
      "epoch: 52 train_loss: 0.5615203380584717, valid_loss: 0.5575556755065918, acc=0.7543103448275862\n",
      "epoch: 53 train_loss: 0.5615203380584717, valid_loss: 0.5575556755065918, acc=0.7543103448275862\n",
      "epoch: 54 train_loss: 0.5615449547767639, valid_loss: 0.5575556755065918, acc=0.7543103448275862\n",
      "epoch: 55 train_loss: 0.5615695714950562, valid_loss: 0.5575556755065918, acc=0.7543103448275862\n",
      "epoch: 56 train_loss: 0.5615695714950562, valid_loss: 0.5575556755065918, acc=0.7543103448275862\n",
      "epoch: 57 train_loss: 0.5615695714950562, valid_loss: 0.5575556755065918, acc=0.7543103448275862\n",
      "epoch: 58 train_loss: 0.5615449547767639, valid_loss: 0.5575556755065918, acc=0.7543103448275862\n",
      "epoch: 59 train_loss: 0.5615449547767639, valid_loss: 0.5575556755065918, acc=0.7543103448275862\n",
      "epoch: 60 train_loss: 0.5615941882133484, valid_loss: 0.5575556755065918, acc=0.7543103448275862\n",
      "epoch: 61 train_loss: 0.5615695714950562, valid_loss: 0.5575556755065918, acc=0.7543103448275862\n",
      "epoch: 62 train_loss: 0.5615695714950562, valid_loss: 0.5575556755065918, acc=0.7543103448275862\n",
      "epoch: 63 train_loss: 0.5615449547767639, valid_loss: 0.5575556755065918, acc=0.7543103448275862\n",
      "epoch: 64 train_loss: 0.5615449547767639, valid_loss: 0.5575556755065918, acc=0.7543103448275862\n",
      "epoch: 65 train_loss: 0.5614957213401794, valid_loss: 0.5575556755065918, acc=0.7543103448275862\n",
      "epoch: 66 train_loss: 0.5615449547767639, valid_loss: 0.5575556755065918, acc=0.7543103448275862\n",
      "epoch: 67 train_loss: 0.5615449547767639, valid_loss: 0.5575556755065918, acc=0.7543103448275862\n",
      "epoch: 68 train_loss: 0.5615695714950562, valid_loss: 0.5575556755065918, acc=0.7543103448275862\n",
      "epoch: 69 train_loss: 0.5615449547767639, valid_loss: 0.5575556755065918, acc=0.7543103448275862\n",
      "epoch: 70 train_loss: 0.5615203380584717, valid_loss: 0.5575556755065918, acc=0.7543103448275862\n",
      "epoch: 71 train_loss: 0.5615695714950562, valid_loss: 0.5575556755065918, acc=0.7543103448275862\n",
      "epoch: 72 train_loss: 0.5616434216499329, valid_loss: 0.5575556755065918, acc=0.7543103448275862\n",
      "epoch: 73 train_loss: 0.5615696310997009, valid_loss: 0.5575556755065918, acc=0.7543103448275862\n",
      "epoch: 74 train_loss: 0.5615449547767639, valid_loss: 0.5575556755065918, acc=0.7543103448275862\n",
      "epoch: 75 train_loss: 0.5615449547767639, valid_loss: 0.5575556755065918, acc=0.7543103448275862\n",
      "epoch: 76 train_loss: 0.5615449547767639, valid_loss: 0.5575556755065918, acc=0.7543103448275862\n",
      "epoch: 77 train_loss: 0.5615203380584717, valid_loss: 0.5575556755065918, acc=0.7543103448275862\n",
      "epoch: 78 train_loss: 0.5614957213401794, valid_loss: 0.5575556755065918, acc=0.7543103448275862\n",
      "epoch: 79 train_loss: 0.5616188049316406, valid_loss: 0.5575556755065918, acc=0.7543103448275862\n",
      "epoch: 80 train_loss: 0.5615695714950562, valid_loss: 0.5575556755065918, acc=0.7543103448275862\n",
      "epoch: 81 train_loss: 0.5616434216499329, valid_loss: 0.5575556755065918, acc=0.7543103448275862\n",
      "epoch: 82 train_loss: 0.5615203380584717, valid_loss: 0.5575556755065918, acc=0.7543103448275862\n",
      "epoch: 83 train_loss: 0.5615695714950562, valid_loss: 0.5575556755065918, acc=0.7543103448275862\n",
      "epoch: 84 train_loss: 0.5615203380584717, valid_loss: 0.5575556755065918, acc=0.7543103448275862\n",
      "epoch: 85 train_loss: 0.5615696310997009, valid_loss: 0.5575556755065918, acc=0.7543103448275862\n",
      "epoch: 86 train_loss: 0.5615203380584717, valid_loss: 0.5575556755065918, acc=0.7543103448275862\n",
      "epoch: 87 train_loss: 0.5615449547767639, valid_loss: 0.5575556755065918, acc=0.7543103448275862\n",
      "epoch: 88 train_loss: 0.5614957213401794, valid_loss: 0.5575556755065918, acc=0.7543103448275862\n",
      "epoch: 89 train_loss: 0.5615695714950562, valid_loss: 0.5575556755065918, acc=0.7543103448275862\n",
      "epoch: 90 train_loss: 0.5615449547767639, valid_loss: 0.5575556755065918, acc=0.7543103448275862\n",
      "epoch: 91 train_loss: 0.5615449547767639, valid_loss: 0.5575556755065918, acc=0.7543103448275862\n",
      "epoch: 92 train_loss: 0.5615203380584717, valid_loss: 0.5575556755065918, acc=0.7543103448275862\n",
      "epoch: 93 train_loss: 0.5615449547767639, valid_loss: 0.5575556755065918, acc=0.7543103448275862\n",
      "epoch: 94 train_loss: 0.5615203380584717, valid_loss: 0.5575556755065918, acc=0.7543103448275862\n",
      "epoch: 95 train_loss: 0.5614957213401794, valid_loss: 0.5575556755065918, acc=0.7543103448275862\n",
      "epoch: 96 train_loss: 0.5616188049316406, valid_loss: 0.5575556755065918, acc=0.7543103448275862\n",
      "epoch: 97 train_loss: 0.5615942478179932, valid_loss: 0.5575556755065918, acc=0.7543103448275862\n",
      "epoch: 98 train_loss: 0.5615695714950562, valid_loss: 0.5575556755065918, acc=0.7543103448275862\n",
      "epoch: 99 train_loss: 0.5615449547767639, valid_loss: 0.5575556755065918, acc=0.7543103448275862\n"
     ]
    }
   ],
   "source": [
    "from torch import optim\n",
    "from torch.optim import Adam, lr_scheduler\n",
    "from torch.nn import Sequential\n",
    "import torch\n",
    "import torch.nn as nn\n",
    "from torch.utils.data import TensorDataset, DataLoader\n",
    "from sklearn.metrics import accuracy_score\n",
    "\n",
    "\n",
    "# 参考microsoft/ai-edu\n",
    "# https://github.com/microsoft/ai-edu/blob/master/%E5%9F%BA%E7%A1%80%E6%95%99%E7%A8%8B/A2-%E7%A5%9E%E7%BB%8F%E7%BD%91%E7%BB%9C%E5%9F%BA%E6%9C%AC%E5%8E%9F%E7%90%86/%E7%AC%AC7%E6%AD%A5%20-%20%E6%B7%B1%E5%BA%A6%E7%A5%9E%E7%BB%8F%E7%BD%91%E7%BB%9C/src/ch14-DnnBasic/Level4_IncomeClassifier.py\n",
    "class Model(nn.Module):\n",
    "    def __init__(self):\n",
    "        super().__init__()\n",
    "        self.model = Sequential(\n",
    "            nn.Linear(14, 32, bias=True),\n",
    "            nn.ReLU(),\n",
    "            nn.Linear(32, 16, bias=True),\n",
    "            nn.ReLU(),\n",
    "            nn.Linear(16, 8, bias=True),\n",
    "            nn.ReLU(),\n",
    "            nn.Linear(8, 4, bias=True),\n",
    "            nn.ReLU(),\n",
    "            nn.Linear(4, 1, bias=True),\n",
    "            nn.Sigmoid()\n",
    "        )\n",
    "\n",
    "    def forward(self, x):\n",
    "        return self.model(x)\n",
    "\n",
    "\n",
    "max_epoch = 100\n",
    "batch_size = 16\n",
    "lr = 0.1\n",
    "train_data_x, val_data_x = torch.utils.data.dataset.random_split(train_x, [27146, 3016],\n",
    "                                                                 generator=torch.Generator().manual_seed(42))\n",
    "train_data_y, val_data_y = torch.utils.data.dataset.random_split(train_y, [27146, 3016],\n",
    "                                                                 generator=torch.Generator().manual_seed(42))\n",
    "train_data = DataLoader(\n",
    "    dataset=TensorDataset(torch.FloatTensor(train_data_x), torch.LongTensor(train_data_y)),\n",
    "    batch_size=batch_size,\n",
    "    shuffle=True)\n",
    "valid_x, valid_y = torch.FloatTensor(val_data_x), torch.LongTensor(val_data_y)\n",
    "test_x, test_y = torch.FloatTensor(test_x), torch.LongTensor(test_y)\n",
    "\n",
    "model = Model()\n",
    "loss_func = nn.BCELoss()\n",
    "optimizer = Adam(model.parameters(), lr=lr)\n",
    "scheduler=lr_scheduler.ExponentialLR(optimizer,gamma=0.1)\n",
    "valid_loss = []\n",
    "train_loss = []\n",
    "\n",
    "for epoch in range(max_epoch):\n",
    "    epoch_loss = []\n",
    "    for step, (batch_x, batch_y) in enumerate(train_data):\n",
    "        pred = model(batch_x)\n",
    "        loss = loss_func(pred, batch_y.float())  #类型统一\n",
    "        optimizer.zero_grad()\n",
    "        loss.backward()\n",
    "        optimizer.step()\n",
    "        epoch_loss.append(loss.cpu().data)\n",
    "    scheduler.step()\n",
    "    train_loss.append(np.mean(epoch_loss))\n",
    "    valid_pred = model(valid_x)\n",
    "    loss = loss_func(valid_pred, valid_y.float())\n",
    "    valid_loss.append(loss.cpu().data)\n",
    "    valid_pred = valid_pred.detach().numpy()\n",
    "    valid_pred[valid_pred < 0.5] = 0\n",
    "    valid_pred[valid_pred >= 0.5] = 1\n",
    "    acc = accuracy_score(valid_pred, valid_y)\n",
    "    print(f\"epoch: {epoch} train_loss: {np.mean(epoch_loss)}, valid_loss: {loss.cpu().data}, acc={acc}\")\n",
    "\n",
    "pred = model(test_x)\n",
    "loss = loss_func(pred, test_y.float()).cpu().data\n"
   ],
   "metadata": {
    "collapsed": false,
    "pycharm": {
     "name": "#%%\n"
    }
   }
  },
  {
   "cell_type": "code",
   "execution_count": 70,
   "outputs": [
    {
     "data": {
      "text/plain": "<Figure size 432x288 with 1 Axes>",
      "image/png": "[encoded data removed]"
     },
     "metadata": {
      "needs_background": "light"
     },
     "output_type": "display_data"
    }
   ],
   "source": [
    "import matplotlib.pyplot as plt\n",
    "plt.plot([i for i in range(max_epoch)],train_loss)\n",
    "plt.plot([i for  i in range(max_epoch)],valid_loss)\n",
    "plt.title(\"Census+Income\")\n",
    "plt.legend([\"train\",\"valid\"])\n",
    "plt.show()"
   ],
   "metadata": {
    "collapsed": false,
    "pycharm": {
     "name": "#%%\n"
    }
   }
  }
 ],
 "metadata": {
  "kernelspec": {
   "display_name": "Python 3",
   "language": "python",
   "name": "python3"
  },
  "language_info": {
   "codemirror_mode": {
    "name": "ipython",
    "version": 2
   },
   "file_extension": ".py",
   "mimetype": "text/x-python",
   "name": "python",
   "nbconvert_exporter": "python",
   "pygments_lexer": "ipython2",
   "version": "2.7.6"
  }
 },
 "nbformat": 4,
 "nbformat_minor": 0
}