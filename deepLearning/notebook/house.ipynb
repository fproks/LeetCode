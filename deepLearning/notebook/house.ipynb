{
 "cells": [
  {
   "cell_type": "code",
   "execution_count": 24,
   "outputs": [
    {
     "name": "stdout",
     "output_type": "stream",
     "text": [
      "<class 'pandas.core.frame.DataFrame'>\n",
      "RangeIndex: 21613 entries, 0 to 21612\n",
      "Data columns (total 15 columns):\n",
      " #   Column         Non-Null Count  Dtype  \n",
      "---  ------         --------------  -----  \n",
      " 0   price          21613 non-null  float64\n",
      " 1   bedrooms       21600 non-null  float64\n",
      " 2   bathrooms      21603 non-null  float64\n",
      " 3   sqft_living    21613 non-null  float64\n",
      " 4   sqft_lot       21613 non-null  float64\n",
      " 5   floors         21613 non-null  float64\n",
      " 6   waterfront     21613 non-null  float64\n",
      " 7   condition      21613 non-null  float64\n",
      " 8   grade          21613 non-null  float64\n",
      " 9   sqft_above     21613 non-null  float64\n",
      " 10  sqft_basement  21613 non-null  float64\n",
      " 11  yr_built       21613 non-null  float64\n",
      " 12  lat            21613 non-null  float64\n",
      " 13  long           21613 non-null  float64\n",
      " 14  Unnamed: 14    21613 non-null  float64\n",
      "dtypes: float64(15)\n",
      "memory usage: 2.5 MB\n",
      "None\n",
      "price            0\n",
      "bedrooms         0\n",
      "bathrooms        0\n",
      "sqft_living      0\n",
      "sqft_lot         0\n",
      "floors           0\n",
      "waterfront       0\n",
      "condition        0\n",
      "grade            0\n",
      "sqft_above       0\n",
      "sqft_basement    0\n",
      "yr_built         0\n",
      "lat              0\n",
      "long             0\n",
      "Unnamed: 14      0\n",
      "dtype: int64\n"
     ]
    }
   ],
   "source": [
    "import matplotlib.pyplot as plt\n",
    "import pandas as pd\n",
    "import numpy as np\n",
    "\n",
    "data = pd.read_csv(\"../data/house_data.csv\")\n",
    "print(data.info())\n",
    "# 去除有Nan的数据\n",
    "tmp = data.dropna(axis=0, how=\"any\")\n",
    "print(tmp.isna().sum())"
   ],
   "metadata": {
    "collapsed": false,
    "pycharm": {
     "name": "#%%\n"
    }
   }
  },
  {
   "cell_type": "code",
   "execution_count": 25,
   "outputs": [
    {
     "name": "stdout",
     "output_type": "stream",
     "text": [
      "(21597, 15)\n",
      "(21597,)\n",
      "(21597, 14)\n",
      "[ 3.0000e+00  1.0000e+00  1.3400e+03  5.6500e+03  1.0000e+00  0.0000e+00\n",
      "  3.0000e+00  7.0000e+00  1.1800e+03  0.0000e+00  1.9550e+03  4.7510e+01\n",
      " -1.2226e+02  1.9550e+03]\n"
     ]
    }
   ],
   "source": [
    "data = tmp.values.copy()\n",
    "print(data.shape)\n",
    "# 切割数据\n",
    "y = data[:, 0]\n",
    "x = data[:, 1:]\n",
    "print(y.shape)\n",
    "print(x.shape)\n",
    "print(x[0, :])"
   ],
   "metadata": {
    "collapsed": false,
    "pycharm": {
     "name": "#%%\n"
    }
   }
  },
  {
   "cell_type": "code",
   "execution_count": 26,
   "outputs": [
    {
     "name": "stdout",
     "output_type": "stream",
     "text": [
      "(21597, 1)\n",
      "[0.0625     0.06666667 0.16193426 0.00574235 0.         0.\n",
      " 0.5        0.4        0.08960177 0.         0.47826087 0.56451613\n",
      " 0.21666667 0.47826087]\n"
     ]
    }
   ],
   "source": [
    "from sklearn import preprocessing\n",
    "\n",
    "y = y.reshape(-1, 1)\n",
    "print(y.shape)\n",
    "data = preprocessing.MinMaxScaler().fit_transform(x)\n",
    "label = preprocessing.MinMaxScaler().fit_transform(y)\n",
    "np.savez(\"house_norm.npz\", data=data, label=label)\n",
    "print(data[0, :])"
   ],
   "metadata": {
    "collapsed": false,
    "pycharm": {
     "name": "#%%\n"
    }
   }
  },
  {
   "cell_type": "code",
   "execution_count": 27,
   "outputs": [
    {
     "name": "stdout",
     "output_type": "stream",
     "text": [
      "epoch : 0 train_loss: 0.004285838454961777, test_loss: 0.0006420764257200062\n",
      "epoch : 1 train_loss: 0.000732473679818213, test_loss: 0.0006976258591748774\n",
      "epoch : 2 train_loss: 0.0007448035175912082, test_loss: 0.0007444290677085519\n",
      "epoch : 3 train_loss: 0.0008036860381253064, test_loss: 0.0006527704535983503\n",
      "epoch : 4 train_loss: 0.0007897397154010832, test_loss: 0.0006528098601847887\n",
      "epoch : 5 train_loss: 0.0008058231906034052, test_loss: 0.0009338585659861565\n",
      "epoch : 6 train_loss: 0.0008046704460866749, test_loss: 0.0009781589033082128\n",
      "epoch : 7 train_loss: 0.0007371988613158464, test_loss: 0.0006561512127518654\n",
      "epoch : 8 train_loss: 0.0008722839411348104, test_loss: 0.0006532511906698346\n",
      "epoch : 9 train_loss: 0.0007895741146057844, test_loss: 0.0006901936721988022\n",
      "epoch : 10 train_loss: 0.0009002002188935876, test_loss: 0.0007259679841808975\n",
      "epoch : 11 train_loss: 0.000823447946459055, test_loss: 0.0007418565801344812\n",
      "epoch : 12 train_loss: 0.0008986997418105602, test_loss: 0.0006816894165240228\n",
      "epoch : 13 train_loss: 0.0007316345581784844, test_loss: 0.0007929807179607451\n",
      "epoch : 14 train_loss: 0.0008262571645900607, test_loss: 0.0009666338446550071\n",
      "epoch : 15 train_loss: 0.0007953540189191699, test_loss: 0.0006815517554059625\n",
      "epoch : 16 train_loss: 0.000760253518819809, test_loss: 0.0007052406435832381\n",
      "epoch : 17 train_loss: 0.0007548005087301135, test_loss: 0.0007055856985971332\n",
      "epoch : 18 train_loss: 0.0007566934800706804, test_loss: 0.0007661007693968713\n",
      "epoch : 19 train_loss: 0.0008406833512708545, test_loss: 0.0008881647954694927\n",
      "epoch : 20 train_loss: 0.0008335913880728185, test_loss: 0.0008309172699227929\n",
      "epoch : 21 train_loss: 0.0008113483781926334, test_loss: 0.0006756454822607338\n",
      "epoch : 22 train_loss: 0.0008324599475599825, test_loss: 0.0006738259689882398\n",
      "epoch : 23 train_loss: 0.0008273432613350451, test_loss: 0.0009903411846607924\n",
      "epoch : 24 train_loss: 0.0007690172642469406, test_loss: 0.0008663462940603495\n",
      "epoch : 25 train_loss: 0.0007914999150671065, test_loss: 0.0006738782394677401\n",
      "epoch : 26 train_loss: 0.000757638190407306, test_loss: 0.0006601489731110632\n",
      "epoch : 27 train_loss: 0.0009226877009496093, test_loss: 0.0008056469960138202\n",
      "epoch : 28 train_loss: 0.0008118683472275734, test_loss: 0.0006973459967412055\n",
      "epoch : 29 train_loss: 0.000766969402320683, test_loss: 0.0006548006786033511\n",
      "epoch : 30 train_loss: 0.0007841080077923834, test_loss: 0.0007062090444378555\n",
      "epoch : 31 train_loss: 0.0007837354205548763, test_loss: 0.0007160270470194519\n",
      "epoch : 32 train_loss: 0.0007963904063217342, test_loss: 0.0007091438747011125\n",
      "epoch : 33 train_loss: 0.0008118935511447489, test_loss: 0.0007077159825712442\n",
      "epoch : 34 train_loss: 0.0008441352401860058, test_loss: 0.0007391604012809694\n",
      "epoch : 35 train_loss: 0.0008915585349313915, test_loss: 0.0007248336332850158\n",
      "epoch : 36 train_loss: 0.0008232236723415554, test_loss: 0.0008911928161978722\n",
      "epoch : 37 train_loss: 0.0008037379593588412, test_loss: 0.0006729805609211326\n",
      "epoch : 38 train_loss: 0.0007468675612471998, test_loss: 0.0007128008874133229\n",
      "epoch : 39 train_loss: 0.0007774799596518278, test_loss: 0.0010345402406528592\n",
      "epoch : 40 train_loss: 0.0007796969730407, test_loss: 0.0006639176281169057\n",
      "epoch : 41 train_loss: 0.0008577778353355825, test_loss: 0.0006588391261175275\n",
      "epoch : 42 train_loss: 0.0008716231095604599, test_loss: 0.0011746400268748403\n",
      "epoch : 43 train_loss: 0.0008377119083888829, test_loss: 0.0007349835359491408\n",
      "epoch : 44 train_loss: 0.0008512978092767298, test_loss: 0.0008363042143173516\n",
      "epoch : 45 train_loss: 0.0008493538480252028, test_loss: 0.0008255612337961793\n",
      "epoch : 46 train_loss: 0.0007499479688704014, test_loss: 0.0006505636847577989\n",
      "epoch : 47 train_loss: 0.0007784563931636512, test_loss: 0.0007411679835058749\n",
      "epoch : 48 train_loss: 0.0007711339858360589, test_loss: 0.0008016520878300071\n",
      "epoch : 49 train_loss: 0.000823537411633879, test_loss: 0.000662192003801465\n",
      "epoch : 50 train_loss: 0.0008384902030229568, test_loss: 0.0025130112189799547\n",
      "epoch : 51 train_loss: 0.0009974869899451733, test_loss: 0.0008996946271508932\n",
      "epoch : 52 train_loss: 0.0008713653078302741, test_loss: 0.0006598944310098886\n",
      "epoch : 53 train_loss: 0.0007956127519719303, test_loss: 0.0008398856734856963\n",
      "epoch : 54 train_loss: 0.0007451786077581346, test_loss: 0.0006827537436038256\n",
      "epoch : 55 train_loss: 0.0007894258596934378, test_loss: 0.0007119301590137184\n",
      "epoch : 56 train_loss: 0.0007901330827735364, test_loss: 0.0008487628074362874\n",
      "epoch : 57 train_loss: 0.0007382948533631861, test_loss: 0.0007143401890061796\n",
      "epoch : 58 train_loss: 0.0007895888411439955, test_loss: 0.0006986298831179738\n",
      "epoch : 59 train_loss: 0.0008724640356376767, test_loss: 0.0012248809216544032\n",
      "epoch : 60 train_loss: 0.0008395590703003109, test_loss: 0.0007040281197987497\n",
      "epoch : 61 train_loss: 0.0008201902383007109, test_loss: 0.0006881699664518237\n",
      "epoch : 62 train_loss: 0.0007671625353395939, test_loss: 0.0011273431591689587\n",
      "epoch : 63 train_loss: 0.0008673372212797403, test_loss: 0.000776671280618757\n",
      "epoch : 64 train_loss: 0.0008432072936557233, test_loss: 0.0007182311383076012\n",
      "epoch : 65 train_loss: 0.0008222408941946924, test_loss: 0.0007612427580170333\n",
      "epoch : 66 train_loss: 0.0008037976222112775, test_loss: 0.0007005314691923559\n",
      "epoch : 67 train_loss: 0.0007343746838159859, test_loss: 0.0008022574475035071\n",
      "epoch : 68 train_loss: 0.0008132947259582579, test_loss: 0.0006598917534574866\n",
      "epoch : 69 train_loss: 0.0007909281412139535, test_loss: 0.0007627643644809723\n",
      "epoch : 70 train_loss: 0.0008858838700689375, test_loss: 0.000755840097554028\n",
      "epoch : 71 train_loss: 0.0007535574841313064, test_loss: 0.0006841905997134745\n",
      "epoch : 72 train_loss: 0.0008365900139324367, test_loss: 0.0008669536327943206\n",
      "epoch : 73 train_loss: 0.0007632393389940262, test_loss: 0.0006669037975370884\n",
      "epoch : 74 train_loss: 0.0007467749528586864, test_loss: 0.0007298742420971394\n",
      "epoch : 75 train_loss: 0.0008095786324702203, test_loss: 0.0013523983070626855\n",
      "epoch : 76 train_loss: 0.0007724533788859844, test_loss: 0.0007247834000736475\n",
      "epoch : 77 train_loss: 0.0007441116613335907, test_loss: 0.0006852406077086926\n",
      "epoch : 78 train_loss: 0.0008297887980006635, test_loss: 0.0007289787754416466\n",
      "epoch : 79 train_loss: 0.0008151516667567194, test_loss: 0.0006606708047911525\n",
      "epoch : 80 train_loss: 0.0008251065737567842, test_loss: 0.000797392160166055\n",
      "epoch : 81 train_loss: 0.0008121210266835988, test_loss: 0.000692407600581646\n",
      "epoch : 82 train_loss: 0.0007488020928576589, test_loss: 0.0008954430231824517\n",
      "epoch : 83 train_loss: 0.000858177081681788, test_loss: 0.0010347140487283468\n",
      "epoch : 84 train_loss: 0.0009338203235529363, test_loss: 0.0006637341575697064\n",
      "epoch : 85 train_loss: 0.0010228304890915751, test_loss: 0.0006904150359332561\n",
      "epoch : 86 train_loss: 0.0007560298545286059, test_loss: 0.0006463028257712722\n",
      "epoch : 87 train_loss: 0.0007673878571949899, test_loss: 0.0007248267065733671\n",
      "epoch : 88 train_loss: 0.000746438920032233, test_loss: 0.0006675623590126634\n",
      "epoch : 89 train_loss: 0.0007598671945743263, test_loss: 0.0010305892210453749\n",
      "epoch : 90 train_loss: 0.0008076622034423053, test_loss: 0.0006429044296965003\n",
      "epoch : 91 train_loss: 0.0009038322023116052, test_loss: 0.0006542270421050489\n",
      "epoch : 92 train_loss: 0.0007372716208919883, test_loss: 0.0006708163418807089\n",
      "epoch : 93 train_loss: 0.0007788340444676578, test_loss: 0.0006926839123480022\n",
      "epoch : 94 train_loss: 0.000792201142758131, test_loss: 0.0007822755724191666\n",
      "epoch : 95 train_loss: 0.000771761464420706, test_loss: 0.0013852620031684637\n",
      "epoch : 96 train_loss: 0.0008219691226258874, test_loss: 0.000916140794288367\n",
      "epoch : 97 train_loss: 0.0008813388412818313, test_loss: 0.000650068570394069\n",
      "epoch : 98 train_loss: 0.0008133800001814961, test_loss: 0.0007040025084279478\n",
      "epoch : 99 train_loss: 0.0008971345378085971, test_loss: 0.0007915346068330109\n"
     ]
    },
    {
     "data": {
      "text/plain": "<Figure size 432x288 with 1 Axes>",
      "image/png": "[encoded data removed]"
     },
     "metadata": {
      "needs_background": "light"
     },
     "output_type": "display_data"
    }
   ],
   "source": [
    "from torch.utils.data import TensorDataset, DataLoader\n",
    "import torch\n",
    "import torch.nn as nn\n",
    "from torch.optim import Adam\n",
    "\n",
    "\n",
    "class Model(nn.Module):\n",
    "    def __init__(self):\n",
    "        super().__init__()\n",
    "        self.model = torch.nn.Sequential(\n",
    "            nn.Linear(in_features=14, out_features=32, bias=True),\n",
    "            nn.BatchNorm1d(32),\n",
    "            nn.Linear(in_features=32, out_features=64, bias=True),\n",
    "            nn.BatchNorm1d(64),\n",
    "            nn.Linear(in_features=64, out_features=32, bias=True),\n",
    "            nn.BatchNorm1d(32),\n",
    "            nn.Linear(in_features=32, out_features=16, bias=True),\n",
    "            nn.BatchNorm1d(16),\n",
    "            nn.Linear(in_features=16, out_features=8, bias=True),\n",
    "            nn.BatchNorm1d(8),\n",
    "            nn.Linear(in_features=8, out_features=4, bias=True),\n",
    "            nn.BatchNorm1d(4),\n",
    "            nn.Linear(in_features=4, out_features=1, bias=True),\n",
    "            nn.Sigmoid()\n",
    "        )\n",
    "\n",
    "    def forward(self, x):\n",
    "        return self.model(x)\n",
    "\n",
    "\n",
    "batch_size = 64\n",
    "train_data_x, test_data_x = torch.utils.data.dataset.random_split(data, [17278, 4319],\n",
    "                                                                  generator=torch.Generator().manual_seed(42))\n",
    "train_data_y, test_data_y = torch.utils.data.dataset.random_split(label, [17278, 4319],\n",
    "                                                                  generator=torch.Generator().manual_seed(42))\n",
    "train_data = TensorDataset(torch.FloatTensor(train_data_x), torch.FloatTensor(train_data_y))\n",
    "test_x, test_y = torch.FloatTensor(test_data_x), torch.FloatTensor(test_data_y)\n",
    "train_data = DataLoader(\n",
    "    dataset=train_data,\n",
    "    batch_size=batch_size,\n",
    "    shuffle=True\n",
    ")\n",
    "model = Model()\n",
    "MSEloss = nn.MSELoss()\n",
    "optimizer = Adam(model.parameters(), lr=0.1)\n",
    "max_epoch = 100\n",
    "\n",
    "\n",
    "test_loss = []\n",
    "train_loss = []\n",
    "for epoch in range(max_epoch):\n",
    "    epoch_loss = []\n",
    "    for step, (batch_x, batch_y) in enumerate(train_data):\n",
    "        pred = model(batch_x)\n",
    "        loss = MSEloss(pred, batch_y)\n",
    "        optimizer.zero_grad()\n",
    "        loss.backward()\n",
    "        optimizer.step()\n",
    "        epoch_loss.append(loss.cpu().data)\n",
    "        #print(f\"epoch: {epoch}, iter : {step}, loss: {loss.cpu().data}\")\n",
    "    test_pred = model(test_x)\n",
    "    loss = MSEloss(test_pred, test_y)\n",
    "    test_loss.append(loss.cpu().data)\n",
    "    train_loss.append(np.mean(epoch_loss))\n",
    "    print(f\"epoch : {epoch} train_loss: {np.mean(epoch_loss)}, test_loss: {loss.cpu().data}\")\n",
    "\n",
    "plt.plot([i for i in range(max_epoch)], train_loss)\n",
    "plt.plot([i for i in range(max_epoch)], test_loss)\n",
    "plt.title(\"house loss\")\n",
    "plt.legend([\"train, test\"])\n",
    "plt.show()\n",
    "\n"
   ],
   "metadata": {
    "collapsed": false,
    "pycharm": {
     "name": "#%%\n"
    }
   }
  }
 ],
 "metadata": {
  "kernelspec": {
   "display_name": "Python 3",
   "language": "python",
   "name": "python3"
  },
  "language_info": {
   "codemirror_mode": {
    "name": "ipython",
    "version": 2
   },
   "file_extension": ".py",
   "mimetype": "text/x-python",
   "name": "python",
   "nbconvert_exporter": "python",
   "pygments_lexer": "ipython2",
   "version": "2.7.6"
  }
 },
 "nbformat": 4,
 "nbformat_minor": 0
}