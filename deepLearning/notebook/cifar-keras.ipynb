{
 "cells": [
  {
   "cell_type": "code",
   "execution_count": 13,
   "metadata": {
    "collapsed": true,
    "pycharm": {
     "name": "#%%\n"
    }
   },
   "outputs": [
    {
     "name": "stdout",
     "output_type": "stream",
     "text": [
      "(10000, 32, 32, 3)\n",
      "(50000, 32, 32, 3)\n"
     ]
    }
   ],
   "source": [
    "import numpy as np\n",
    "from tensorflow import keras\n",
    "(train_x, train_y), (test_x, test_y) = keras.datasets.cifar10.load_data()\n",
    "print(test_x.shape)\n",
    "print(train_x.shape)"
   ]
  },
  {
   "cell_type": "code",
   "execution_count": 14,
   "outputs": [
    {
     "name": "stdout",
     "output_type": "stream",
     "text": [
      "Model: \"sequential_2\"\n",
      "_________________________________________________________________\n",
      "Layer (type)                 Output Shape              Param #   \n",
      "=================================================================\n",
      "conv2d_8 (Conv2D)            (None, 32, 32, 32)        896       \n",
      "_________________________________________________________________\n",
      "batch_normalization (BatchNo (None, 32, 32, 32)        128       \n",
      "_________________________________________________________________\n",
      "conv2d_9 (Conv2D)            (None, 30, 30, 32)        9248      \n",
      "_________________________________________________________________\n",
      "batch_normalization_1 (Batch (None, 30, 30, 32)        128       \n",
      "_________________________________________________________________\n",
      "max_pooling2d_4 (MaxPooling2 (None, 15, 15, 32)        0         \n",
      "_________________________________________________________________\n",
      "dropout_6 (Dropout)          (None, 15, 15, 32)        0         \n",
      "_________________________________________________________________\n",
      "conv2d_10 (Conv2D)           (None, 15, 15, 64)        18496     \n",
      "_________________________________________________________________\n",
      "batch_normalization_2 (Batch (None, 15, 15, 64)        256       \n",
      "_________________________________________________________________\n",
      "conv2d_11 (Conv2D)           (None, 13, 13, 64)        36928     \n",
      "_________________________________________________________________\n",
      "batch_normalization_3 (Batch (None, 13, 13, 64)        256       \n",
      "_________________________________________________________________\n",
      "max_pooling2d_5 (MaxPooling2 (None, 6, 6, 64)          0         \n",
      "_________________________________________________________________\n",
      "dropout_7 (Dropout)          (None, 6, 6, 64)          0         \n",
      "_________________________________________________________________\n",
      "flatten_2 (Flatten)          (None, 2304)              0         \n",
      "_________________________________________________________________\n",
      "dense_4 (Dense)              (None, 512)               1180160   \n",
      "_________________________________________________________________\n",
      "batch_normalization_4 (Batch (None, 512)               2048      \n",
      "_________________________________________________________________\n",
      "activation_4 (Activation)    (None, 512)               0         \n",
      "_________________________________________________________________\n",
      "dropout_8 (Dropout)          (None, 512)               0         \n",
      "_________________________________________________________________\n",
      "dense_5 (Dense)              (None, 10)                5130      \n",
      "_________________________________________________________________\n",
      "batch_normalization_5 (Batch (None, 10)                40        \n",
      "_________________________________________________________________\n",
      "activation_5 (Activation)    (None, 10)                0         \n",
      "=================================================================\n",
      "Total params: 1,253,714\n",
      "Trainable params: 1,252,286\n",
      "Non-trainable params: 1,428\n",
      "_________________________________________________________________\n",
      "None\n"
     ]
    }
   ],
   "source": [
    "num_classes = 10\n",
    "model = keras.Sequential([\n",
    "    keras.layers.Conv2D(32, (3, 3), padding=\"same\", input_shape=train_x.shape[1:], activation=\"relu\"),\n",
    "    keras.layers.BatchNormalization(-1),\n",
    "    keras.layers.Conv2D(32, (3, 3), activation='relu'),\n",
    "    keras.layers.BatchNormalization(-1),\n",
    "    keras.layers.MaxPool2D(pool_size=(2, 2)),\n",
    "    keras.layers.Dropout(0.25),\n",
    "    keras.layers.Conv2D(64, (3, 3), padding=\"same\", activation='relu'),\n",
    "    keras.layers.BatchNormalization(-1),\n",
    "    keras.layers.Conv2D(64, (3, 3), activation='relu'),\n",
    "    keras.layers.BatchNormalization(-1),\n",
    "    keras.layers.MaxPool2D(pool_size=(2, 2)),\n",
    "    keras.layers.Dropout(0.25),\n",
    "    keras.layers.Flatten(),\n",
    "    keras.layers.Dense(512),\n",
    "    keras.layers.BatchNormalization(-1),\n",
    "    keras.layers.Activation(\"relu\"),\n",
    "    keras.layers.Dropout(0.25),\n",
    "    keras.layers.Dense(num_classes),\n",
    "    keras.layers.BatchNormalization(-1),\n",
    "    keras.layers.Activation(\"softmax\")\n",
    "])\n",
    "print(model.summary())"
   ],
   "metadata": {
    "collapsed": false,
    "pycharm": {
     "name": "#%%\n"
    }
   }
  },
  {
   "cell_type": "code",
   "execution_count": 15,
   "outputs": [
    {
     "name": "stdout",
     "output_type": "stream",
     "text": [
      "(50000, 10)\n"
     ]
    }
   ],
   "source": [
    "test_y = keras.utils.to_categorical(test_y, num_classes)\n",
    "train_y = keras.utils.to_categorical(train_y, num_classes)\n",
    "print(train_y.shape)"
   ],
   "metadata": {
    "collapsed": false,
    "pycharm": {
     "name": "#%%\n"
    }
   }
  },
  {
   "cell_type": "code",
   "execution_count": 16,
   "outputs": [
    {
     "name": "stdout",
     "output_type": "stream",
     "text": [
      "Epoch 1/25\n",
      "1563/1563 [==============================] - 20s 12ms/step - loss: 1.4057 - accuracy: 0.4903 - val_loss: 1.2717 - val_accuracy: 0.5708\n",
      "Epoch 2/25\n",
      "1563/1563 [==============================] - 19s 12ms/step - loss: 1.0432 - accuracy: 0.6326 - val_loss: 1.2553 - val_accuracy: 0.5839\n",
      "Epoch 3/25\n",
      "1563/1563 [==============================] - 19s 12ms/step - loss: 0.8999 - accuracy: 0.6834 - val_loss: 0.9302 - val_accuracy: 0.6792\n",
      "Epoch 4/25\n",
      "1563/1563 [==============================] - 19s 12ms/step - loss: 0.8148 - accuracy: 0.7160 - val_loss: 0.8125 - val_accuracy: 0.7244\n",
      "Epoch 5/25\n",
      "1563/1563 [==============================] - 19s 12ms/step - loss: 0.7509 - accuracy: 0.7391 - val_loss: 0.8226 - val_accuracy: 0.7147\n",
      "Epoch 6/25\n",
      "1563/1563 [==============================] - 19s 12ms/step - loss: 0.7016 - accuracy: 0.7541 - val_loss: 0.6838 - val_accuracy: 0.7667\n",
      "Epoch 7/25\n",
      "1563/1563 [==============================] - 19s 12ms/step - loss: 0.6522 - accuracy: 0.7727 - val_loss: 0.6071 - val_accuracy: 0.7926\n",
      "Epoch 8/25\n",
      "1563/1563 [==============================] - 19s 12ms/step - loss: 0.6158 - accuracy: 0.7863 - val_loss: 0.6339 - val_accuracy: 0.7868\n",
      "Epoch 9/25\n",
      "1563/1563 [==============================] - 19s 12ms/step - loss: 0.5818 - accuracy: 0.7980 - val_loss: 0.5992 - val_accuracy: 0.7956\n",
      "Epoch 10/25\n",
      "1563/1563 [==============================] - 19s 12ms/step - loss: 0.5466 - accuracy: 0.8092 - val_loss: 0.7377 - val_accuracy: 0.7661\n",
      "Epoch 11/25\n",
      "1563/1563 [==============================] - 19s 12ms/step - loss: 0.5239 - accuracy: 0.8167 - val_loss: 0.5890 - val_accuracy: 0.8057\n",
      "Epoch 12/25\n",
      "1563/1563 [==============================] - 19s 12ms/step - loss: 0.4958 - accuracy: 0.8260 - val_loss: 0.5979 - val_accuracy: 0.8012\n",
      "Epoch 13/25\n",
      "1563/1563 [==============================] - 19s 12ms/step - loss: 0.4689 - accuracy: 0.8351 - val_loss: 0.5906 - val_accuracy: 0.8106\n",
      "Epoch 14/25\n",
      "1563/1563 [==============================] - 18s 12ms/step - loss: 0.4536 - accuracy: 0.8415 - val_loss: 0.5886 - val_accuracy: 0.8077\n",
      "Epoch 15/25\n",
      "1563/1563 [==============================] - 19s 12ms/step - loss: 0.4329 - accuracy: 0.8481 - val_loss: 0.6043 - val_accuracy: 0.8093\n",
      "Epoch 16/25\n",
      "1563/1563 [==============================] - 19s 12ms/step - loss: 0.4161 - accuracy: 0.8527 - val_loss: 0.6241 - val_accuracy: 0.8047\n",
      "Epoch 17/25\n",
      "1563/1563 [==============================] - 19s 12ms/step - loss: 0.4050 - accuracy: 0.8564 - val_loss: 0.7049 - val_accuracy: 0.7747\n",
      "Epoch 18/25\n",
      "1563/1563 [==============================] - 18s 12ms/step - loss: 0.3911 - accuracy: 0.8631 - val_loss: 0.5731 - val_accuracy: 0.8210\n",
      "Epoch 19/25\n",
      "1563/1563 [==============================] - 18s 12ms/step - loss: 0.3804 - accuracy: 0.8665 - val_loss: 0.5952 - val_accuracy: 0.8140\n",
      "Epoch 20/25\n",
      "1563/1563 [==============================] - 19s 12ms/step - loss: 0.3637 - accuracy: 0.8724 - val_loss: 0.5650 - val_accuracy: 0.8228\n",
      "Epoch 21/25\n",
      "1563/1563 [==============================] - 18s 12ms/step - loss: 0.3554 - accuracy: 0.8731 - val_loss: 0.5736 - val_accuracy: 0.8219\n",
      "Epoch 22/25\n",
      "1563/1563 [==============================] - 19s 12ms/step - loss: 0.3470 - accuracy: 0.8774 - val_loss: 0.5638 - val_accuracy: 0.8216\n",
      "Epoch 23/25\n",
      "1563/1563 [==============================] - 19s 12ms/step - loss: 0.3387 - accuracy: 0.8803 - val_loss: 0.5369 - val_accuracy: 0.8286\n",
      "Epoch 24/25\n",
      "1563/1563 [==============================] - 18s 12ms/step - loss: 0.3269 - accuracy: 0.8853 - val_loss: 0.6067 - val_accuracy: 0.8202\n",
      "Epoch 25/25\n",
      "1563/1563 [==============================] - 18s 12ms/step - loss: 0.3197 - accuracy: 0.8873 - val_loss: 0.5867 - val_accuracy: 0.8237\n",
      "keras use time: 7.804396033287048 minutes\n",
      "keras average accuracy: 0.8873199820518494\n"
     ]
    },
    {
     "ename": "TypeError",
     "evalue": "_save_dispatcher() got an unexpected keyword argument 'loss'",
     "output_type": "error",
     "traceback": [
      "\u001B[1;31m---------------------------------------------------------------------------\u001B[0m",
      "\u001B[1;31mTypeError\u001B[0m                                 Traceback (most recent call last)",
      "Input \u001B[1;32mIn [16]\u001B[0m, in \u001B[0;36m<cell line: 17>\u001B[1;34m()\u001B[0m\n\u001B[0;32m     15\u001B[0m \u001B[38;5;28mprint\u001B[39m(\u001B[38;5;124mf\u001B[39m\u001B[38;5;124m\"\u001B[39m\u001B[38;5;124mkeras use time: \u001B[39m\u001B[38;5;132;01m{\u001B[39;00m(end \u001B[38;5;241m-\u001B[39m start)\u001B[38;5;241m/\u001B[39m\u001B[38;5;241m60\u001B[39m\u001B[38;5;132;01m}\u001B[39;00m\u001B[38;5;124m minutes\u001B[39m\u001B[38;5;124m\"\u001B[39m)\n\u001B[0;32m     16\u001B[0m \u001B[38;5;28mprint\u001B[39m(\u001B[38;5;124mf\u001B[39m\u001B[38;5;124m\"\u001B[39m\u001B[38;5;124mkeras average accuracy: \u001B[39m\u001B[38;5;132;01m{\u001B[39;00mh\u001B[38;5;241m.\u001B[39mhistory[\u001B[38;5;124m'\u001B[39m\u001B[38;5;124maccuracy\u001B[39m\u001B[38;5;124m'\u001B[39m][\u001B[38;5;241m-\u001B[39m\u001B[38;5;241m1\u001B[39m]\u001B[38;5;132;01m}\u001B[39;00m\u001B[38;5;124m\"\u001B[39m)\n\u001B[1;32m---> 17\u001B[0m \u001B[43mnp\u001B[49m\u001B[38;5;241;43m.\u001B[39;49m\u001B[43msave\u001B[49m\u001B[43m(\u001B[49m\u001B[38;5;124;43m\"\u001B[39;49m\u001B[38;5;124;43m../data/cifar-keras-reslut.npz\u001B[39;49m\u001B[38;5;124;43m\"\u001B[39;49m\u001B[43m,\u001B[49m\u001B[43mloss\u001B[49m\u001B[38;5;241;43m=\u001B[39;49m\u001B[43mnp\u001B[49m\u001B[38;5;241;43m.\u001B[39;49m\u001B[43marray\u001B[49m\u001B[43m(\u001B[49m\u001B[43mh\u001B[49m\u001B[38;5;241;43m.\u001B[39;49m\u001B[43mhistory\u001B[49m\u001B[43m[\u001B[49m\u001B[38;5;124;43m'\u001B[39;49m\u001B[38;5;124;43mloss\u001B[39;49m\u001B[38;5;124;43m'\u001B[39;49m\u001B[43m]\u001B[49m\u001B[43m)\u001B[49m\u001B[43m,\u001B[49m\u001B[43maccuracy\u001B[49m\u001B[38;5;241;43m=\u001B[39;49m\u001B[43mh\u001B[49m\u001B[38;5;241;43m.\u001B[39;49m\u001B[43mhistory\u001B[49m\u001B[43m[\u001B[49m\u001B[38;5;124;43m'\u001B[39;49m\u001B[38;5;124;43maccuracy\u001B[39;49m\u001B[38;5;124;43m'\u001B[39;49m\u001B[43m]\u001B[49m\u001B[43m)\u001B[49m\n",
      "File \u001B[1;32m<__array_function__ internals>:4\u001B[0m, in \u001B[0;36msave\u001B[1;34m(*args, **kwargs)\u001B[0m\n",
      "\u001B[1;31mTypeError\u001B[0m: _save_dispatcher() got an unexpected keyword argument 'loss'"
     ]
    }
   ],
   "source": [
    "from time import time\n",
    "batch_size=32\n",
    "epoch = 25\n",
    "opt = keras.optimizers.Adam(learning_rate=0.1)\n",
    "model.compile(loss=keras.losses.CategoricalCrossentropy(),\n",
    "              optimizer=opt,\n",
    "              metrics=[\"accuracy\"])\n",
    "train_x = train_x.astype('float32')\n",
    "test_x = test_x.astype('float32')\n",
    "train_x /= 255\n",
    "test_x /= 255\n",
    "start = time()\n",
    "h = model.fit(train_x, train_y, batch_size=batch_size, epochs=epoch, validation_data=(test_x, test_y), shuffle=True)\n",
    "end = time()\n",
    "print(f\"keras use time: {(end - start)/60} minutes\")\n",
    "print(f\"keras average accuracy: {h.history['accuracy'][-1]}\")\n"
   ],
   "metadata": {
    "collapsed": false,
    "pycharm": {
     "name": "#%%\n"
    }
   }
  },
  {
   "cell_type": "code",
   "execution_count": 20,
   "outputs": [],
   "source": [
    "np.savez(\"../data/cifar-keras-reslut.npz\",train_loss=np.array(h.history['loss']),train_accuracy=h.history['accuracy'],test_loss=np.array(h.history['val_loss']),test_accuracy=h.history['val_accuracy'])"
   ],
   "metadata": {
    "collapsed": false,
    "pycharm": {
     "name": "#%%\n"
    }
   }
  },
  {
   "cell_type": "code",
   "execution_count": null,
   "outputs": [],
   "source": [],
   "metadata": {
    "collapsed": false,
    "pycharm": {
     "name": "#%%\n"
    }
   }
  }
 ],
 "metadata": {
  "kernelspec": {
   "display_name": "Python 3",
   "language": "python",
   "name": "python3"
  },
  "language_info": {
   "codemirror_mode": {
    "name": "ipython",
    "version": 2
   },
   "file_extension": ".py",
   "mimetype": "text/x-python",
   "name": "python",
   "nbconvert_exporter": "python",
   "pygments_lexer": "ipython2",
   "version": "2.7.6"
  }
 },
 "nbformat": 4,
 "nbformat_minor": 0
}