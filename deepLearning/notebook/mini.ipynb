{
 "cells": [
  {
   "cell_type": "code",
   "execution_count": 1,
   "outputs": [
    {
     "name": "stdout",
     "output_type": "stream",
     "text": [
      "(27145, 14)\n",
      "(15060, 14)\n"
     ]
    }
   ],
   "source": [
    "from learning.miniDP.Data import DataReader\n",
    "import numpy as np\n",
    "\n",
    "train_file = \"../data/ch14.Income.train.npz\"\n",
    "test_file = \"../data/ch14.Income.test.npz\"\n",
    "\n",
    "dataReader = DataReader(train_file, test_file)\n",
    "dataReader.ReadData()\n",
    "dataReader.NormalizeX()\n",
    "dataReader.Shuffle()\n",
    "dataReader.generateValidationSet()\n",
    "print(dataReader.XTrain.shape)\n",
    "print(dataReader.XTest.shape)"
   ],
   "metadata": {
    "collapsed": false,
    "pycharm": {
     "name": "#%%\n"
    }
   }
  },
  {
   "cell_type": "code",
   "execution_count": 2,
   "outputs": [
    {
     "name": "stderr",
     "output_type": "stream",
     "text": [
      "E:\\LINHOS\\LeetCode\\deepLearning\\learning\\miniDP\\WeightBias.py:39: RuntimeWarning: invalid value encountered in true_divide\n",
      "  self.dW = np.dot(x.T, dz) / m\n",
      "E:\\LINHOS\\LeetCode\\deepLearning\\learning\\miniDP\\WeightBias.py:40: RuntimeWarning: invalid value encountered in true_divide\n",
      "  self.dB = np.sum(dz, axis=0, keepdims=True) / m\n"
     ]
    },
    {
     "name": "stdout",
     "output_type": "stream",
     "text": [
      "epoch:0, total_iterations:1885\n",
      "loss_train: nan, acc_train: 0.0\n",
      "loss_valid=nan, accuracy_val=0.0\n",
      "epoch:1, total_iterations:3771\n",
      "loss_train: nan, acc_train: 0.0\n",
      "loss_valid=nan, accuracy_val=0.0\n",
      "epoch:2, total_iterations:5657\n",
      "loss_train: nan, acc_train: 0.0\n",
      "loss_valid=nan, accuracy_val=0.0\n",
      "epoch:3, total_iterations:7543\n",
      "loss_train: nan, acc_train: 0.0\n",
      "loss_valid=nan, accuracy_val=0.0\n",
      "epoch:4, total_iterations:9429\n",
      "loss_train: nan, acc_train: 0.0\n",
      "loss_valid=nan, accuracy_val=0.0\n",
      "epoch:5, total_iterations:11315\n",
      "loss_train: nan, acc_train: 0.0\n",
      "loss_valid=nan, accuracy_val=0.0\n",
      "epoch:6, total_iterations:13201\n",
      "loss_train: nan, acc_train: 0.0\n",
      "loss_valid=nan, accuracy_val=0.0\n",
      "epoch:7, total_iterations:15087\n",
      "loss_train: nan, acc_train: 0.0\n",
      "loss_valid=nan, accuracy_val=0.0\n",
      "epoch:8, total_iterations:16973\n",
      "loss_train: nan, acc_train: 0.0\n",
      "loss_valid=nan, accuracy_val=0.0\n",
      "epoch:9, total_iterations:18859\n",
      "loss_train: nan, acc_train: 0.0\n",
      "loss_valid=nan, accuracy_val=0.0\n",
      "epoch:10, total_iterations:20745\n",
      "loss_train: nan, acc_train: 0.0\n",
      "loss_valid=nan, accuracy_val=0.0\n",
      "epoch:11, total_iterations:22631\n",
      "loss_train: nan, acc_train: 0.0\n",
      "loss_valid=nan, accuracy_val=0.0\n",
      "epoch:12, total_iterations:24517\n",
      "loss_train: nan, acc_train: 0.0\n",
      "loss_valid=nan, accuracy_val=0.0\n",
      "epoch:13, total_iterations:26403\n",
      "loss_train: nan, acc_train: 0.0\n",
      "loss_valid=nan, accuracy_val=0.0\n",
      "epoch:14, total_iterations:28289\n",
      "loss_train: nan, acc_train: 0.0\n",
      "loss_valid=nan, accuracy_val=0.0\n",
      "epoch:15, total_iterations:30175\n",
      "loss_train: nan, acc_train: 0.0\n",
      "loss_valid=nan, accuracy_val=0.0\n",
      "epoch:16, total_iterations:32061\n",
      "loss_train: nan, acc_train: 0.0\n",
      "loss_valid=nan, accuracy_val=0.0\n",
      "epoch:17, total_iterations:33947\n",
      "loss_train: nan, acc_train: 0.0\n",
      "loss_valid=nan, accuracy_val=0.0\n",
      "epoch:18, total_iterations:35833\n",
      "loss_train: nan, acc_train: 0.0\n",
      "loss_valid=nan, accuracy_val=0.0\n",
      "epoch:19, total_iterations:37719\n",
      "loss_train: nan, acc_train: 0.0\n",
      "loss_valid=nan, accuracy_val=0.0\n",
      "epoch:20, total_iterations:39605\n",
      "loss_train: nan, acc_train: 0.0\n",
      "loss_valid=nan, accuracy_val=0.0\n",
      "epoch:21, total_iterations:41491\n",
      "loss_train: nan, acc_train: 0.0\n",
      "loss_valid=nan, accuracy_val=0.0\n",
      "epoch:22, total_iterations:43377\n",
      "loss_train: nan, acc_train: 0.0\n",
      "loss_valid=nan, accuracy_val=0.0\n",
      "epoch:23, total_iterations:45263\n",
      "loss_train: nan, acc_train: 0.0\n",
      "loss_valid=nan, accuracy_val=0.0\n",
      "epoch:24, total_iterations:47149\n",
      "loss_train: nan, acc_train: 0.0\n",
      "loss_valid=nan, accuracy_val=0.0\n",
      "epoch:25, total_iterations:49035\n",
      "loss_train: nan, acc_train: 0.0\n",
      "loss_valid=nan, accuracy_val=0.0\n",
      "epoch:26, total_iterations:50921\n",
      "loss_train: nan, acc_train: 0.0\n",
      "loss_valid=nan, accuracy_val=0.0\n",
      "epoch:27, total_iterations:52807\n",
      "loss_train: nan, acc_train: 0.0\n",
      "loss_valid=nan, accuracy_val=0.0\n",
      "epoch:28, total_iterations:54693\n",
      "loss_train: nan, acc_train: 0.0\n",
      "loss_valid=nan, accuracy_val=0.0\n",
      "epoch:29, total_iterations:56579\n",
      "loss_train: nan, acc_train: 0.0\n",
      "loss_valid=nan, accuracy_val=0.0\n",
      "epoch:30, total_iterations:58465\n",
      "loss_train: nan, acc_train: 0.0\n",
      "loss_valid=nan, accuracy_val=0.0\n",
      "epoch:31, total_iterations:60351\n",
      "loss_train: nan, acc_train: 0.0\n",
      "loss_valid=nan, accuracy_val=0.0\n",
      "epoch:32, total_iterations:62237\n",
      "loss_train: nan, acc_train: 0.0\n",
      "loss_valid=nan, accuracy_val=0.0\n"
     ]
    },
    {
     "ename": "KeyboardInterrupt",
     "evalue": "",
     "output_type": "error",
     "traceback": [
      "\u001B[1;31m---------------------------------------------------------------------------\u001B[0m",
      "\u001B[1;31mKeyboardInterrupt\u001B[0m                         Traceback (most recent call last)",
      "\u001B[1;32m~\\AppData\\Local\\Temp/ipykernel_2572/47204953.py\u001B[0m in \u001B[0;36m<module>\u001B[1;34m\u001B[0m\n\u001B[0;32m     19\u001B[0m \u001B[0mnet\u001B[0m\u001B[1;33m.\u001B[0m\u001B[0maddLayer\u001B[0m\u001B[1;33m(\u001B[0m\u001B[0mFullLayer\u001B[0m\u001B[1;33m(\u001B[0m\u001B[1;36m4\u001B[0m\u001B[1;33m,\u001B[0m\u001B[1;36m1\u001B[0m\u001B[1;33m,\u001B[0m\u001B[0mhyperparams\u001B[0m\u001B[1;33m)\u001B[0m\u001B[1;33m)\u001B[0m\u001B[1;33m\u001B[0m\u001B[1;33m\u001B[0m\u001B[0m\n\u001B[0;32m     20\u001B[0m \u001B[0mnet\u001B[0m\u001B[1;33m.\u001B[0m\u001B[0maddLayer\u001B[0m\u001B[1;33m(\u001B[0m\u001B[0mClassificationLayer\u001B[0m\u001B[1;33m(\u001B[0m\u001B[0mLogistic\u001B[0m\u001B[1;33m(\u001B[0m\u001B[1;33m)\u001B[0m\u001B[1;33m)\u001B[0m\u001B[1;33m)\u001B[0m\u001B[1;33m\u001B[0m\u001B[1;33m\u001B[0m\u001B[0m\n\u001B[1;32m---> 21\u001B[1;33m \u001B[0mnet\u001B[0m\u001B[1;33m.\u001B[0m\u001B[0mtrain\u001B[0m\u001B[1;33m(\u001B[0m\u001B[0mdataReader\u001B[0m\u001B[1;33m,\u001B[0m\u001B[0mcheckpoint\u001B[0m\u001B[1;33m=\u001B[0m\u001B[1;36m1\u001B[0m\u001B[1;33m,\u001B[0m\u001B[0mneed_test\u001B[0m\u001B[1;33m=\u001B[0m\u001B[1;32mTrue\u001B[0m\u001B[1;33m)\u001B[0m\u001B[1;33m\u001B[0m\u001B[1;33m\u001B[0m\u001B[0m\n\u001B[0m\u001B[0;32m     22\u001B[0m \u001B[0mnet\u001B[0m\u001B[1;33m.\u001B[0m\u001B[0mshowLossHistory\u001B[0m\u001B[1;33m(\u001B[0m\u001B[1;33m)\u001B[0m\u001B[1;33m\u001B[0m\u001B[1;33m\u001B[0m\u001B[0m\n",
      "\u001B[1;32mE:\\LINHOS\\LeetCode\\deepLearning\\learning\\miniDP\\NeuralNet.py\u001B[0m in \u001B[0;36mtrain\u001B[1;34m(self, dataReader, checkpoint, need_test)\u001B[0m\n\u001B[0;32m     80\u001B[0m                 \u001B[0moutput\u001B[0m \u001B[1;33m=\u001B[0m \u001B[0mself\u001B[0m\u001B[1;33m.\u001B[0m\u001B[0mforward\u001B[0m\u001B[1;33m(\u001B[0m\u001B[0mbatch_x\u001B[0m\u001B[1;33m,\u001B[0m \u001B[0mtrain\u001B[0m\u001B[1;33m=\u001B[0m\u001B[1;32mTrue\u001B[0m\u001B[1;33m)\u001B[0m\u001B[1;33m\u001B[0m\u001B[1;33m\u001B[0m\u001B[0m\n\u001B[0;32m     81\u001B[0m                 \u001B[0mself\u001B[0m\u001B[1;33m.\u001B[0m\u001B[0mbackward\u001B[0m\u001B[1;33m(\u001B[0m\u001B[0moutput\u001B[0m\u001B[1;33m,\u001B[0m \u001B[0mbatch_y\u001B[0m\u001B[1;33m)\u001B[0m\u001B[1;33m\u001B[0m\u001B[1;33m\u001B[0m\u001B[0m\n\u001B[1;32m---> 82\u001B[1;33m                 \u001B[0mself\u001B[0m\u001B[1;33m.\u001B[0m\u001B[0mupdate\u001B[0m\u001B[1;33m(\u001B[0m\u001B[1;33m)\u001B[0m\u001B[1;33m\u001B[0m\u001B[1;33m\u001B[0m\u001B[0m\n\u001B[0m\u001B[0;32m     83\u001B[0m \u001B[1;33m\u001B[0m\u001B[0m\n\u001B[0;32m     84\u001B[0m                 \u001B[0mtotal_iterations\u001B[0m \u001B[1;33m=\u001B[0m \u001B[0mepoch\u001B[0m \u001B[1;33m*\u001B[0m \u001B[0mmax_iteration\u001B[0m \u001B[1;33m+\u001B[0m \u001B[0miteration\u001B[0m\u001B[1;33m\u001B[0m\u001B[1;33m\u001B[0m\u001B[0m\n",
      "\u001B[1;32mE:\\LINHOS\\LeetCode\\deepLearning\\learning\\miniDP\\NeuralNet.py\u001B[0m in \u001B[0;36mupdate\u001B[1;34m(self)\u001B[0m\n\u001B[0;32m     47\u001B[0m     \u001B[1;32mdef\u001B[0m \u001B[0mupdate\u001B[0m\u001B[1;33m(\u001B[0m\u001B[0mself\u001B[0m\u001B[1;33m)\u001B[0m\u001B[1;33m:\u001B[0m\u001B[1;33m\u001B[0m\u001B[1;33m\u001B[0m\u001B[0m\n\u001B[0;32m     48\u001B[0m         \u001B[1;32mfor\u001B[0m \u001B[0mi\u001B[0m \u001B[1;32min\u001B[0m \u001B[0mrange\u001B[0m\u001B[1;33m(\u001B[0m\u001B[0mself\u001B[0m\u001B[1;33m.\u001B[0m\u001B[0mlayer_count\u001B[0m \u001B[1;33m-\u001B[0m \u001B[1;36m1\u001B[0m\u001B[1;33m,\u001B[0m \u001B[1;33m-\u001B[0m\u001B[1;36m1\u001B[0m\u001B[1;33m,\u001B[0m \u001B[1;33m-\u001B[0m\u001B[1;36m1\u001B[0m\u001B[1;33m)\u001B[0m\u001B[1;33m:\u001B[0m\u001B[1;33m\u001B[0m\u001B[1;33m\u001B[0m\u001B[0m\n\u001B[1;32m---> 49\u001B[1;33m             \u001B[0mself\u001B[0m\u001B[1;33m.\u001B[0m\u001B[0mlayer_list\u001B[0m\u001B[1;33m[\u001B[0m\u001B[0mi\u001B[0m\u001B[1;33m]\u001B[0m\u001B[1;33m.\u001B[0m\u001B[0mupdate\u001B[0m\u001B[1;33m(\u001B[0m\u001B[1;33m)\u001B[0m\u001B[1;33m\u001B[0m\u001B[1;33m\u001B[0m\u001B[0m\n\u001B[0m\u001B[0;32m     50\u001B[0m \u001B[1;33m\u001B[0m\u001B[0m\n\u001B[0;32m     51\u001B[0m     \u001B[1;32mdef\u001B[0m \u001B[0m__get_regular_cost_from_fc_layer\u001B[0m\u001B[1;33m(\u001B[0m\u001B[0mself\u001B[0m\u001B[1;33m,\u001B[0m \u001B[0mregularName\u001B[0m\u001B[1;33m)\u001B[0m\u001B[1;33m:\u001B[0m\u001B[1;33m\u001B[0m\u001B[1;33m\u001B[0m\u001B[0m\n",
      "\u001B[1;32mE:\\LINHOS\\LeetCode\\deepLearning\\learning\\miniDP\\FullConnectionLayer.py\u001B[0m in \u001B[0;36mupdate\u001B[1;34m(self)\u001B[0m\n\u001B[0;32m     42\u001B[0m \u001B[1;33m\u001B[0m\u001B[0m\n\u001B[0;32m     43\u001B[0m     \u001B[1;32mdef\u001B[0m \u001B[0mupdate\u001B[0m\u001B[1;33m(\u001B[0m\u001B[0mself\u001B[0m\u001B[1;33m)\u001B[0m\u001B[1;33m:\u001B[0m\u001B[1;33m\u001B[0m\u001B[1;33m\u001B[0m\u001B[0m\n\u001B[1;32m---> 44\u001B[1;33m         \u001B[0mself\u001B[0m\u001B[1;33m.\u001B[0m\u001B[0mweight\u001B[0m\u001B[1;33m.\u001B[0m\u001B[0mupdate\u001B[0m\u001B[1;33m(\u001B[0m\u001B[1;33m)\u001B[0m\u001B[1;33m\u001B[0m\u001B[1;33m\u001B[0m\u001B[0m\n\u001B[0m",
      "\u001B[1;32mE:\\LINHOS\\LeetCode\\deepLearning\\learning\\miniDP\\WeightBias.py\u001B[0m in \u001B[0;36mupdate\u001B[1;34m(self)\u001B[0m\n\u001B[0;32m     43\u001B[0m \u001B[1;33m\u001B[0m\u001B[0m\n\u001B[0;32m     44\u001B[0m     \u001B[1;32mdef\u001B[0m \u001B[0mupdate\u001B[0m\u001B[1;33m(\u001B[0m\u001B[0mself\u001B[0m\u001B[1;33m)\u001B[0m\u001B[1;33m:\u001B[0m\u001B[1;33m\u001B[0m\u001B[1;33m\u001B[0m\u001B[0m\n\u001B[1;32m---> 45\u001B[1;33m         \u001B[0mself\u001B[0m\u001B[1;33m.\u001B[0m\u001B[0mW\u001B[0m \u001B[1;33m=\u001B[0m \u001B[0mself\u001B[0m\u001B[1;33m.\u001B[0m\u001B[0moW\u001B[0m\u001B[1;33m.\u001B[0m\u001B[0mupdate\u001B[0m\u001B[1;33m(\u001B[0m\u001B[0mself\u001B[0m\u001B[1;33m.\u001B[0m\u001B[0mW\u001B[0m\u001B[1;33m,\u001B[0m \u001B[0mself\u001B[0m\u001B[1;33m.\u001B[0m\u001B[0mdW\u001B[0m\u001B[1;33m)\u001B[0m\u001B[1;33m\u001B[0m\u001B[1;33m\u001B[0m\u001B[0m\n\u001B[0m\u001B[0;32m     46\u001B[0m         \u001B[0mself\u001B[0m\u001B[1;33m.\u001B[0m\u001B[0mB\u001B[0m \u001B[1;33m=\u001B[0m \u001B[0mself\u001B[0m\u001B[1;33m.\u001B[0m\u001B[0moB\u001B[0m\u001B[1;33m.\u001B[0m\u001B[0mupdate\u001B[0m\u001B[1;33m(\u001B[0m\u001B[0mself\u001B[0m\u001B[1;33m.\u001B[0m\u001B[0mB\u001B[0m\u001B[1;33m,\u001B[0m \u001B[0mself\u001B[0m\u001B[1;33m.\u001B[0m\u001B[0mdB\u001B[0m\u001B[1;33m)\u001B[0m\u001B[1;33m\u001B[0m\u001B[1;33m\u001B[0m\u001B[0m\n\u001B[0;32m     47\u001B[0m \u001B[1;33m\u001B[0m\u001B[0m\n",
      "\u001B[1;32mE:\\LINHOS\\LeetCode\\deepLearning\\learning\\miniDP\\Optimizer.py\u001B[0m in \u001B[0;36mupdate\u001B[1;34m(self, eta, grad)\u001B[0m\n\u001B[0;32m     38\u001B[0m \u001B[1;33m\u001B[0m\u001B[0m\n\u001B[0;32m     39\u001B[0m     \u001B[1;32mdef\u001B[0m \u001B[0mupdate\u001B[0m\u001B[1;33m(\u001B[0m\u001B[0mself\u001B[0m\u001B[1;33m,\u001B[0m \u001B[0meta\u001B[0m\u001B[1;33m,\u001B[0m \u001B[0mgrad\u001B[0m\u001B[1;33m)\u001B[0m\u001B[1;33m:\u001B[0m\u001B[1;33m\u001B[0m\u001B[1;33m\u001B[0m\u001B[0m\n\u001B[1;32m---> 40\u001B[1;33m         \u001B[0meta\u001B[0m \u001B[1;33m=\u001B[0m \u001B[0meta\u001B[0m \u001B[1;33m-\u001B[0m \u001B[0mself\u001B[0m\u001B[1;33m.\u001B[0m\u001B[0mlr\u001B[0m \u001B[1;33m*\u001B[0m \u001B[0mgrad\u001B[0m\u001B[1;33m\u001B[0m\u001B[1;33m\u001B[0m\u001B[0m\n\u001B[0m\u001B[0;32m     41\u001B[0m         \u001B[1;32mreturn\u001B[0m \u001B[0meta\u001B[0m\u001B[1;33m\u001B[0m\u001B[1;33m\u001B[0m\u001B[0m\n\u001B[0;32m     42\u001B[0m \u001B[1;33m\u001B[0m\u001B[0m\n",
      "\u001B[1;31mKeyboardInterrupt\u001B[0m: "
     ]
    }
   ],
   "source": [
    "from learning.miniDP.ClassificationLayer import ClassificationLayer, Logistic\n",
    "from learning.miniDP.ActivateLayer import ActivationLayer, Relu\n",
    "from learning.miniDP.FullConnectionLayer import FullLayer\n",
    "from learning.miniDP.NeuralNet import NeuralNet\n",
    "from learning.miniDP.EnumDef import NetType, InitialMethod, StopCondition, Stopper\n",
    "from learning.miniDP.HyperParameter import HyperParameter\n",
    "\n",
    "hyperparams = HyperParameter(eta=0.1, max_epoch=100, batch_size=16, net_type=NetType.BinaryClassifier,\n",
    "                             init_method=InitialMethod.MSRA, stopper=Stopper(StopCondition.StopDiff, 1e-3))\n",
    "net =NeuralNet(hyperparams)\n",
    "net.addLayer(FullLayer(14,32,hyperparams))\n",
    "net.addLayer(ActivationLayer(Relu()))\n",
    "net.addLayer(FullLayer(32,16,hyperparams))\n",
    "net.addLayer(ActivationLayer(Relu()))\n",
    "net.addLayer(FullLayer(16,8,hyperparams))\n",
    "net.addLayer(ActivationLayer(Relu()))\n",
    "net.addLayer(FullLayer(8,4,hyperparams))\n",
    "net.addLayer(ActivationLayer(Relu()))\n",
    "net.addLayer(FullLayer(4,1,hyperparams))\n",
    "net.addLayer(ClassificationLayer(Logistic()))\n",
    "net.train(dataReader,checkpoint=1,need_test=True)\n",
    "net.showLossHistory()"
   ],
   "metadata": {
    "collapsed": false,
    "pycharm": {
     "name": "#%%\n"
    }
   }
  }
 ],
 "metadata": {
  "kernelspec": {
   "display_name": "Python 3",
   "language": "python",
   "name": "python3"
  },
  "language_info": {
   "codemirror_mode": {
    "name": "ipython",
    "version": 2
   },
   "file_extension": ".py",
   "mimetype": "text/x-python",
   "name": "python",
   "nbconvert_exporter": "python",
   "pygments_lexer": "ipython2",
   "version": "2.7.6"
  }
 },
 "nbformat": 4,
 "nbformat_minor": 0
}