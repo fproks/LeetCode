{
 "cells": [
  {
   "cell_type": "code",
   "execution_count": 1,
   "outputs": [
    {
     "name": "stdout",
     "output_type": "stream",
     "text": [
      "(30162, 14)\n",
      "(15060, 14)\n"
     ]
    }
   ],
   "source": [
    "from learning.miniDP.Data import DataReader\n",
    "import numpy as np\n",
    "\n",
    "train_file = \"../data/ch14.Income.train.npz\"\n",
    "test_file = \"../data/ch14.Income.test.npz\"\n",
    "\n",
    "dataReader = DataReader(train_file, test_file)\n",
    "dataReader.ReadData()\n",
    "dataReader.NormalizeX()\n",
    "dataReader.Shuffle()\n",
    "print(dataReader.XTrain.shape)\n",
    "print(dataReader.XTest.shape)"
   ],
   "metadata": {
    "collapsed": false,
    "pycharm": {
     "name": "#%%\n"
    }
   }
  },
  {
   "cell_type": "code",
   "execution_count": null,
   "outputs": [],
   "source": [],
   "metadata": {
    "collapsed": false,
    "pycharm": {
     "name": "#%%\n"
    }
   }
  }
 ],
 "metadata": {
  "kernelspec": {
   "display_name": "Python 3",
   "language": "python",
   "name": "python3"
  },
  "language_info": {
   "codemirror_mode": {
    "name": "ipython",
    "version": 2
   },
   "file_extension": ".py",
   "mimetype": "text/x-python",
   "name": "python",
   "nbconvert_exporter": "python",
   "pygments_lexer": "ipython2",
   "version": "2.7.6"
  }
 },
 "nbformat": 4,
 "nbformat_minor": 0
}